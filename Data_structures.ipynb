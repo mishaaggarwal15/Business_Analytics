{
  "nbformat": 4,
  "nbformat_minor": 0,
  "metadata": {
    "colab": {
      "name": "Data_structures.ipynb",
      "provenance": [],
      "authorship_tag": "ABX9TyPggXsjKyn+/SwOyOSfMNy7",
      "include_colab_link": true
    },
    "kernelspec": {
      "name": "python3",
      "display_name": "Python 3"
    },
    "language_info": {
      "name": "python"
    }
  },
  "cells": [
    {
      "cell_type": "markdown",
      "metadata": {
        "id": "view-in-github",
        "colab_type": "text"
      },
      "source": [
        "<a href=\"https://colab.research.google.com/github/mishaaggarwal15/Business_Analytics/blob/main/Data_structures.ipynb\" target=\"_parent\"><img src=\"https://colab.research.google.com/assets/colab-badge.svg\" alt=\"Open In Colab\"/></a>"
      ]
    },
    {
      "cell_type": "code",
      "metadata": {
        "colab": {
          "base_uri": "https://localhost:8080/"
        },
        "id": "6Z-7NgC2m0sk",
        "outputId": "fde0892f-ffb9-4ef6-8957-ec25aa7c4e6b"
      },
      "source": [
        "print(\"hello world\")\n",
        "\n",
        "#Numbers\n",
        "#a=3 , b=5  #a and b are number objects \n",
        "\n",
        "#String\n",
        "str1 = 'Hello Students' #string str1\n",
        "str2 = ' how are you' #string str2  \n",
        "str1\n",
        "str2\n",
        "print (str1[0:5]) #printing first five character using slice operator  \n",
        "(str1[0:5])\n",
        "print (str1[4]) #printing 5th character of the string  \n",
        "print (str1*2) #printing the string twice  \n",
        "print (str1 + str2) #printing the concatenation of str1 and str2\n",
        "\n",
        "\n"
      ],
      "execution_count": 2,
      "outputs": [
        {
          "output_type": "stream",
          "text": [
            "hello world\n",
            "Hello\n",
            "o\n",
            "Hello StudentsHello Students\n",
            "Hello Students how are you\n"
          ],
          "name": "stdout"
        }
      ]
    },
    {
      "cell_type": "code",
      "metadata": {
        "colab": {
          "base_uri": "https://localhost:8080/"
        },
        "id": "8t2RFQ6dm3Xa",
        "outputId": "e9e497ad-0efc-40b4-ac95-54fc159b6847"
      },
      "source": [
        "#Lists\n",
        "l  = [1, \"hi\", \"python\", True] \n",
        "print (l[3:])  \n",
        "print (l[0:2])\n",
        "print (l);  \n",
        "print (l + l);  \n",
        "print (l * 3);\n",
        "print (type(l))\n",
        "#Lets try mutation \n",
        "l[1] = \"Bye\"\n",
        "print (l)\n",
        "\n"
      ],
      "execution_count": 3,
      "outputs": [
        {
          "output_type": "stream",
          "text": [
            "[True]\n",
            "[1, 'hi']\n",
            "[1, 'hi', 'python', True]\n",
            "[1, 'hi', 'python', True, 1, 'hi', 'python', True]\n",
            "[1, 'hi', 'python', True, 1, 'hi', 'python', True, 1, 'hi', 'python', True]\n",
            "<class 'list'>\n",
            "[1, 'Bye', 'python', True]\n"
          ],
          "name": "stdout"
        }
      ]
    },
    {
      "cell_type": "code",
      "metadata": {
        "colab": {
          "base_uri": "https://localhost:8080/",
          "height": 334
        },
        "id": "7Fl78B3InDWL",
        "outputId": "f1eb1a5d-08bc-403a-d7a3-b0bb40713986"
      },
      "source": [
        "#Tuple\n",
        "t  = ('hi', 'python', 2, 4) \n",
        "t \n",
        "print (t[1:]);  \n",
        "print (t[0:2]);  \n",
        "print (t);  \n",
        "print (t + t)\n",
        "print (t * 3)  \n",
        "print (type(t)) \n",
        "#Lets try mutation \n",
        "t[1] = \"Bye\"\n",
        "print (t)\n",
        "\n"
      ],
      "execution_count": 4,
      "outputs": [
        {
          "output_type": "stream",
          "text": [
            "('python', 2, 4)\n",
            "('hi', 'python')\n",
            "('hi', 'python', 2, 4)\n",
            "('hi', 'python', 2, 4, 'hi', 'python', 2, 4)\n",
            "('hi', 'python', 2, 4, 'hi', 'python', 2, 4, 'hi', 'python', 2, 4)\n",
            "<class 'tuple'>\n"
          ],
          "name": "stdout"
        },
        {
          "output_type": "error",
          "ename": "TypeError",
          "evalue": "ignored",
          "traceback": [
            "\u001b[0;31m---------------------------------------------------------------------------\u001b[0m",
            "\u001b[0;31mTypeError\u001b[0m                                 Traceback (most recent call last)",
            "\u001b[0;32m<ipython-input-4-8a82386bd9bd>\u001b[0m in \u001b[0;36m<module>\u001b[0;34m()\u001b[0m\n\u001b[1;32m      9\u001b[0m \u001b[0mprint\u001b[0m \u001b[0;34m(\u001b[0m\u001b[0mtype\u001b[0m\u001b[0;34m(\u001b[0m\u001b[0mt\u001b[0m\u001b[0;34m)\u001b[0m\u001b[0;34m)\u001b[0m\u001b[0;34m\u001b[0m\u001b[0;34m\u001b[0m\u001b[0m\n\u001b[1;32m     10\u001b[0m \u001b[0;31m#Lets try mutation\u001b[0m\u001b[0;34m\u001b[0m\u001b[0;34m\u001b[0m\u001b[0;34m\u001b[0m\u001b[0m\n\u001b[0;32m---> 11\u001b[0;31m \u001b[0mt\u001b[0m\u001b[0;34m[\u001b[0m\u001b[0;36m1\u001b[0m\u001b[0;34m]\u001b[0m \u001b[0;34m=\u001b[0m \u001b[0;34m\"Bye\"\u001b[0m\u001b[0;34m\u001b[0m\u001b[0;34m\u001b[0m\u001b[0m\n\u001b[0m\u001b[1;32m     12\u001b[0m \u001b[0mprint\u001b[0m \u001b[0;34m(\u001b[0m\u001b[0mt\u001b[0m\u001b[0;34m)\u001b[0m\u001b[0;34m\u001b[0m\u001b[0;34m\u001b[0m\u001b[0m\n\u001b[1;32m     13\u001b[0m \u001b[0;34m\u001b[0m\u001b[0m\n",
            "\u001b[0;31mTypeError\u001b[0m: 'tuple' object does not support item assignment"
          ]
        }
      ]
    },
    {
      "cell_type": "code",
      "metadata": {
        "colab": {
          "base_uri": "https://localhost:8080/"
        },
        "id": "GW-jwkLxnF3L",
        "outputId": "15c0b56c-f0fc-4d29-d3ee-76132b067be9"
      },
      "source": [
        "#Dictionary\n",
        "d = {1:\"Jimmy\", 2:'Alex', 3:'john', 4:'mike'}\n",
        "d\n",
        "print(\"1st name is \"+d[1])  \n",
        "print(\"2nd name is \"+ d[4]) \n",
        "print (d); \n",
        "print (d.keys());  \n",
        "print (d.values());\n",
        "\n"
      ],
      "execution_count": 5,
      "outputs": [
        {
          "output_type": "stream",
          "text": [
            "1st name is Jimmy\n",
            "2nd name is mike\n",
            "{1: 'Jimmy', 2: 'Alex', 3: 'john', 4: 'mike'}\n",
            "dict_keys([1, 2, 3, 4])\n",
            "dict_values(['Jimmy', 'Alex', 'john', 'mike'])\n"
          ],
          "name": "stdout"
        }
      ]
    },
    {
      "cell_type": "code",
      "metadata": {
        "colab": {
          "base_uri": "https://localhost:8080/"
        },
        "id": "qFE6NS8wnIVN",
        "outputId": "7761a9f6-99ad-4c05-f325-50fd31c7d664"
      },
      "source": [
        "#----ADVANCED----\n",
        "#list\n",
        "#ordered collection of items; sequence of items in a list\n",
        "shoplist =['apple','carrot','mango', 'banana']\n",
        "shoplist\n",
        "len(shoplist)\n",
        "print(shoplist)\n",
        "\n",
        "#add item to list\n",
        "shoplist.append('rice')\n",
        "shoplist\n",
        "\n",
        "#sort\n",
        "shoplist.sort()  #inplace sort\n",
        "shoplist\n",
        "\n",
        "#index/select\n",
        "shoplist[0]\n",
        "shoplist[0:4]\n",
        "\n",
        "#delete item\n",
        "del shoplist[0]\n",
        "shoplist\n",
        "\n"
      ],
      "execution_count": 6,
      "outputs": [
        {
          "output_type": "stream",
          "text": [
            "['apple', 'carrot', 'mango', 'banana']\n"
          ],
          "name": "stdout"
        },
        {
          "output_type": "execute_result",
          "data": {
            "text/plain": [
              "['banana', 'carrot', 'mango', 'rice']"
            ]
          },
          "metadata": {
            "tags": []
          },
          "execution_count": 6
        }
      ]
    },
    {
      "cell_type": "code",
      "metadata": {
        "colab": {
          "base_uri": "https://localhost:8080/"
        },
        "id": "ypfMHrClnMlD",
        "outputId": "bdd4ef05-c19b-49a6-9d15-cff3cde49b86"
      },
      "source": [
        "#Tuple\n",
        "#Used to hold multiple object; similar to lists; less functionality than list\n",
        "#immutable - cannot modify- fast ; ( )\n",
        "zoo = ('python','lion','elephant','bird')\n",
        "zoo\n",
        "len(zoo)\n",
        "languages = 'c', 'java', 'php'  #better to put (), this also works\n",
        "languages\n",
        "\n"
      ],
      "execution_count": 16,
      "outputs": [
        {
          "output_type": "execute_result",
          "data": {
            "text/plain": [
              "('c', 'java', 'php')"
            ]
          },
          "metadata": {
            "tags": []
          },
          "execution_count": 16
        }
      ]
    },
    {
      "cell_type": "code",
      "metadata": {
        "colab": {
          "base_uri": "https://localhost:8080/"
        },
        "id": "OdCVHkTJnPXe",
        "outputId": "a58ffdac-c7ac-4caa-f6b6-24586a9e6af4"
      },
      "source": [
        "#Dictionary - like an addressbook. use of associate keys with values\n",
        "#key-value pairs { 'key1':value1, 'key2':value2} ; { } bracket, :colon\n",
        "\n",
        "student = {'A101': 'Abhinav', 'A102': 'Rohit', 'A103':'Rahul', 'A104': 'Karan'}\n",
        "student\n",
        "student['A103']\n",
        "print('Name of rollno A103 is ' +student['A103'])\n",
        "del student['A104']\n",
        "student\n",
        "len(student)\n",
        "\n",
        "#for rollno, name in student.items():\n",
        "    #print('name of {} is {} '.format(rollno, name) )\n",
        "\n",
        "#Lets test Mutation: \n",
        "#adding a value\n",
        "student['A104'] = 'Hitesh'\n",
        "student\n",
        "\n",
        "#Set\n",
        "#Sets are unordered collections of objects; ( [ , ])\n",
        "teamA = set(['india','england','australia','sri lanka','ireland'])\n",
        "teamA\n",
        "teamB = set(['pakistan', 'south africa','bangladesh','ireland'])\n",
        "teamB\n",
        "\n",
        "#Checking whether a data value exists in a set or not.\n",
        "'india' in teamA\n",
        "'india' in teamB\n",
        "\n",
        "#Adding values in a set\n",
        "teamA.add('china')\n",
        "teamA  #puts in order\n",
        "teamA.add('india')\n",
        "teamA  #no duplicates\n",
        "teamA.remove('australia')\n",
        "teamA\n",
        "\n"
      ],
      "execution_count": 8,
      "outputs": [
        {
          "output_type": "stream",
          "text": [
            "Name of rollno A103 is Rahul\n"
          ],
          "name": "stdout"
        },
        {
          "output_type": "execute_result",
          "data": {
            "text/plain": [
              "{'china', 'england', 'india', 'ireland', 'sri lanka'}"
            ]
          },
          "metadata": {
            "tags": []
          },
          "execution_count": 8
        }
      ]
    },
    {
      "cell_type": "code",
      "metadata": {
        "colab": {
          "base_uri": "https://localhost:8080/",
          "height": 111
        },
        "id": "90LI1GiMnTR3",
        "outputId": "d9fab1ec-c191-4c5d-e67a-3f31f163195c"
      },
      "source": [
        "#Create dataframe :\n",
        "import pandas as pd\n",
        " \n",
        "#Create a DataFrame\n",
        "d = {'Name':['Alisa','Bobby','Cathrine','Alisa','Bobby','Cathrine',\n",
        "            'Alisa','Bobby','Cathrine','Alisa','Bobby','Cathrine'],\n",
        "            'Exam':['Semester 1','Semester 1','Semester 1','Semester 1','Semester 1','Semester 1',\n",
        "                    'Semester 2','Semester 2','Semester 2','Semester 2','Semester 2','Semester 2'],\n",
        "                    'Subject':['Mathematics','Mathematics','Mathematics','Science','Science','Science',\n",
        "                               'Mathematics','Mathematics','Mathematics','Science','Science','Science'],\n",
        "                               'Score':[62,47,55,74,31,77,85,63,42,67,89,81]}\n",
        "\n",
        "d\n",
        "\n",
        "df = pd.DataFrame(d,columns=['Name','Exam','Subject','Score'])\n",
        "df\n",
        "\n",
        "#View a column of the dataframe in pandas:\n",
        "df['Name']\n",
        "\n",
        "#View two columns of the dataframe in pandas:\n",
        "df[['Name','Score','Exam']]\n",
        "\n",
        "#View first two rows of the dataframe in pandas:\n",
        "df[0:2]\n"
      ],
      "execution_count": 9,
      "outputs": [
        {
          "output_type": "execute_result",
          "data": {
            "text/html": [
              "<div>\n",
              "<style scoped>\n",
              "    .dataframe tbody tr th:only-of-type {\n",
              "        vertical-align: middle;\n",
              "    }\n",
              "\n",
              "    .dataframe tbody tr th {\n",
              "        vertical-align: top;\n",
              "    }\n",
              "\n",
              "    .dataframe thead th {\n",
              "        text-align: right;\n",
              "    }\n",
              "</style>\n",
              "<table border=\"1\" class=\"dataframe\">\n",
              "  <thead>\n",
              "    <tr style=\"text-align: right;\">\n",
              "      <th></th>\n",
              "      <th>Name</th>\n",
              "      <th>Exam</th>\n",
              "      <th>Subject</th>\n",
              "      <th>Score</th>\n",
              "    </tr>\n",
              "  </thead>\n",
              "  <tbody>\n",
              "    <tr>\n",
              "      <th>0</th>\n",
              "      <td>Alisa</td>\n",
              "      <td>Semester 1</td>\n",
              "      <td>Mathematics</td>\n",
              "      <td>62</td>\n",
              "    </tr>\n",
              "    <tr>\n",
              "      <th>1</th>\n",
              "      <td>Bobby</td>\n",
              "      <td>Semester 1</td>\n",
              "      <td>Mathematics</td>\n",
              "      <td>47</td>\n",
              "    </tr>\n",
              "  </tbody>\n",
              "</table>\n",
              "</div>"
            ],
            "text/plain": [
              "    Name        Exam      Subject  Score\n",
              "0  Alisa  Semester 1  Mathematics     62\n",
              "1  Bobby  Semester 1  Mathematics     47"
            ]
          },
          "metadata": {
            "tags": []
          },
          "execution_count": 9
        }
      ]
    },
    {
      "cell_type": "code",
      "metadata": {
        "id": "hzXxnTNCnUC5"
      },
      "source": [
        ""
      ],
      "execution_count": null,
      "outputs": []
    }
  ]
}