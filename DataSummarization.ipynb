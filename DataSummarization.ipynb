{
  "nbformat": 4,
  "nbformat_minor": 0,
  "metadata": {
    "colab": {
      "name": "DataSummarization.ipynb",
      "provenance": [],
      "authorship_tag": "ABX9TyMurSs7qokt3ZXwRtlEBmB6",
      "include_colab_link": true
    },
    "kernelspec": {
      "name": "python3",
      "display_name": "Python 3"
    },
    "language_info": {
      "name": "python"
    }
  },
  "cells": [
    {
      "cell_type": "markdown",
      "metadata": {
        "id": "view-in-github",
        "colab_type": "text"
      },
      "source": [
        "<a href=\"https://colab.research.google.com/github/mishaaggarwal15/Business_Analytics/blob/main/DataSummarization.ipynb\" target=\"_parent\"><img src=\"https://colab.research.google.com/assets/colab-badge.svg\" alt=\"Open In Colab\"/></a>"
      ]
    },
    {
      "cell_type": "code",
      "metadata": {
        "id": "iKC3hJWcbKaG",
        "outputId": "041a8752-5e32-4f70-b47f-d70460d20e1d",
        "colab": {
          "base_uri": "https://localhost:8080/"
        }
      },
      "source": [
        "#-------------------------------Data Summary-------------------------------\n",
        "#Describe()- Used to get summary statistics in python.\n",
        "#Describe Function gives the mean, std and IQR values.\n",
        "#It analyzes both numeric and object series and also the DataFrame column sets of mixed data types.\n",
        "# creation of DataFrame\n",
        "import pandas as pd\n",
        "import numpy as np\n",
        "\n",
        "#Example 1:\n",
        "a1 = pd.Series([1, 2, 3,4]) \n",
        "a1 \n",
        "a1.describe()  \n",
        "\n",
        "a2 = pd.Series(['q', 'r', 'r', 'r','q','s','p'])  \n",
        "a2\n",
        "a2.describe() \n",
        "\n",
        "info = pd.DataFrame({'numeric': [1, 2, 3, 4],  \n",
        "'object': ['p', 'q', 'r','e']  \n",
        " })  \n",
        "info\n",
        "\n",
        "info.describe(include=[np.number])  \n",
        "info.describe(include=[np.object])  \n",
        "info.describe()\n",
        "\n",
        "#Example 2:\n",
        "#Create a Dictionary of series\n",
        "d = {'Name':['Cathrine','Alisa','Bobby','Madonna','Rocky','Sebastian','Jaqluine',\n",
        "                       'Rahul','David','Andrew','Ajay','Teresa'],\n",
        "'Age':[26,27,25,24,31,27,25,33,42,32,51,47],\n",
        "'Score':[89,87,67,55,47,72,76,79,44,92,99,69]}\n",
        "\n",
        "#Create a DataFrame\n",
        "df = pd.DataFrame(d)\n",
        "df\n",
        "\n",
        "#Descriptive or Summary Statistic of the numeric columns:\n",
        "#Summary statistics\n",
        "print(df.describe())\n",
        "\n",
        "#Descriptive or Summary Statistic of the character columns:\n",
        "#Summary statistics of character column\n",
        "print(df.describe(include='object'))\n",
        "\n",
        "#Descriptive or Summary Statistic of all the columns\n",
        "#Summary statistics of both - character & numerical columns\n",
        "print(df.describe(include='all'))"
      ],
      "execution_count": 1,
      "outputs": [
        {
          "output_type": "stream",
          "text": [
            "             Age      Score\n",
            "count  12.000000  12.000000\n",
            "mean   32.500000  73.000000\n",
            "std     9.209679  17.653225\n",
            "min    24.000000  44.000000\n",
            "25%    25.750000  64.000000\n",
            "50%    29.000000  74.000000\n",
            "75%    35.250000  87.500000\n",
            "max    51.000000  99.000000\n",
            "         Name\n",
            "count      12\n",
            "unique     12\n",
            "top     Bobby\n",
            "freq        1\n",
            "         Name        Age      Score\n",
            "count      12  12.000000  12.000000\n",
            "unique     12        NaN        NaN\n",
            "top     Bobby        NaN        NaN\n",
            "freq        1        NaN        NaN\n",
            "mean      NaN  32.500000  73.000000\n",
            "std       NaN   9.209679  17.653225\n",
            "min       NaN  24.000000  44.000000\n",
            "25%       NaN  25.750000  64.000000\n",
            "50%       NaN  29.000000  74.000000\n",
            "75%       NaN  35.250000  87.500000\n",
            "max       NaN  51.000000  99.000000\n"
          ],
          "name": "stdout"
        }
      ]
    },
    {
      "cell_type": "code",
      "metadata": {
        "id": "vrKhAVvvbNwQ"
      },
      "source": [
        ""
      ],
      "execution_count": null,
      "outputs": []
    }
  ]
}