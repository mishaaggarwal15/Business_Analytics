{
  "nbformat": 4,
  "nbformat_minor": 0,
  "metadata": {
    "colab": {
      "name": "Loops.ipynb",
      "provenance": [],
      "authorship_tag": "ABX9TyPYRnxk77dKsT16/RL5ZVzW",
      "include_colab_link": true
    },
    "kernelspec": {
      "name": "python3",
      "display_name": "Python 3"
    },
    "language_info": {
      "name": "python"
    }
  },
  "cells": [
    {
      "cell_type": "markdown",
      "metadata": {
        "id": "view-in-github",
        "colab_type": "text"
      },
      "source": [
        "<a href=\"https://colab.research.google.com/github/mishaaggarwal15/Business_Analytics/blob/main/Loops.ipynb\" target=\"_parent\"><img src=\"https://colab.research.google.com/assets/colab-badge.svg\" alt=\"Open In Colab\"/></a>"
      ]
    },
    {
      "cell_type": "code",
      "metadata": {
        "colab": {
          "base_uri": "https://localhost:8080/"
        },
        "id": "n1NZlvfxSMGR",
        "outputId": "d4081109-0a12-4d26-a372-669595e26329"
      },
      "source": [
        "#--------------------------------Loops----------------------------------------\n",
        "#-------------For Loop---------------\n",
        "# for loop is used in case where we need to execute some part of the code until the given condition\n",
        "# is satisfied. It is better to use for loop if the number of iteration is known in advance.\n",
        "#It is frequently used to traverse the data structures like list, tuple, or dictionary.\n",
        "#Example1:\n",
        "i=0  \n",
        "for i in range(0,10):\n",
        "    print(i,end =',')\n",
        "\n",
        "#Example2:printing the table of the given number\n",
        "i=1\n",
        "num = int(input(\"Enter a number:\"))\n",
        "for i in range(1,11):\n",
        "    print(\"%a X %a = %a\" %(num,i,num*i))\n",
        "\n",
        "#Example3:Nested For loop\n",
        "n = int(input(\"Enter the number of rows you want to print?\"))\n",
        "i,j=0,0\n",
        "for i in range(0,n):\n",
        "    print()\n",
        "    for j in range(0,i+1):\n",
        "        print(\"*\",end=\"\")\n",
        "\n",
        "#Exampl4: Else statement with For loop\n",
        "for i in range(0,5):\n",
        "    print(i)\n",
        "else:print(\"for loop completely exhausted, since there is no break.\")\n",
        "\n"
      ],
      "execution_count": 1,
      "outputs": [
        {
          "output_type": "stream",
          "text": [
            "0,1,2,3,4,5,6,7,8,9,Enter a number:5\n",
            "5 X 1 = 5\n",
            "5 X 2 = 10\n",
            "5 X 3 = 15\n",
            "5 X 4 = 20\n",
            "5 X 5 = 25\n",
            "5 X 6 = 30\n",
            "5 X 7 = 35\n",
            "5 X 8 = 40\n",
            "5 X 9 = 45\n",
            "5 X 10 = 50\n",
            "Enter the number of rows you want to print?5\n",
            "\n",
            "*\n",
            "**\n",
            "***\n",
            "****\n",
            "*****0\n",
            "1\n",
            "2\n",
            "3\n",
            "4\n",
            "for loop completely exhausted, since there is no break.\n"
          ],
          "name": "stdout"
        }
      ]
    },
    {
      "cell_type": "code",
      "metadata": {
        "colab": {
          "base_uri": "https://localhost:8080/"
        },
        "id": "wxXAO15PSQgu",
        "outputId": "7f32aff4-e387-4c9a-c568-5bb03858776a"
      },
      "source": [
        "#------------While Loop-------------\n",
        "# while loop is to be used in the scenario where we don't know the number of iterations in advance. \n",
        "#The block of statements is executed in the while loop until the condition specified in while loop \n",
        "#is satisfied. \n",
        "#Example1:\n",
        "i=1;\n",
        "while i<=10:\n",
        "    print(i);\n",
        "    i=i+1;\n",
        "\n",
        "#Example2:\n",
        "i=1\n",
        "number=0\n",
        "\n",
        "number = int(input(\"Enter the number?\"))\n",
        "while i<=10:\n",
        "    print(\"%a X %a = %a \\n\"%(number,i,number*i));\n",
        "    i = i+1;\n",
        "\n",
        "#Example3:Infinite while loop\n",
        "var = 1\n",
        "while var != 2:\n",
        "    i = int(input(\"Enter the number?\"))\n",
        "    print (\"Entered value is %d\"%(i))\n",
        "    var+=1\n",
        "    \n",
        "#while (1):\n",
        "#    print(\"Hi! we are inside the infinite while loop\");\n",
        "    \n",
        "# For loop is ran finite no. of times even if we give only one value\n",
        "for i in range(0,1):\n",
        "    print(\"Hi! we are inside the finite for loop\");\n",
        "\n",
        "#Example4: Using else with while loop\n",
        "i=1;\n",
        "while i<=5:\n",
        "    print(i)\n",
        "    i=i+1;\n",
        "else:print(\"The while loop exhausted\");\n",
        "\n"
      ],
      "execution_count": 5,
      "outputs": [
        {
          "output_type": "stream",
          "text": [
            "1\n",
            "2\n",
            "3\n",
            "4\n",
            "5\n",
            "6\n",
            "7\n",
            "8\n",
            "9\n",
            "10\n",
            "Enter the number?5\n",
            "5 X 1 = 5 \n",
            "\n",
            "5 X 2 = 10 \n",
            "\n",
            "5 X 3 = 15 \n",
            "\n",
            "5 X 4 = 20 \n",
            "\n",
            "5 X 5 = 25 \n",
            "\n",
            "5 X 6 = 30 \n",
            "\n",
            "5 X 7 = 35 \n",
            "\n",
            "5 X 8 = 40 \n",
            "\n",
            "5 X 9 = 45 \n",
            "\n",
            "5 X 10 = 50 \n",
            "\n",
            "Enter the number?5\n",
            "Entered value is 5\n",
            "Hi! we are inside the finite for loop\n",
            "1\n",
            "2\n",
            "3\n",
            "4\n",
            "5\n",
            "The while loop exhausted\n"
          ],
          "name": "stdout"
        }
      ]
    },
    {
      "cell_type": "code",
      "metadata": {
        "colab": {
          "base_uri": "https://localhost:8080/"
        },
        "id": "xGd6uituSS3Q",
        "outputId": "8c6c6f10-980a-4f29-acd7-7f38ae0289c2"
      },
      "source": [
        "#-------------If Statement----------------\n",
        "#The if statement is used to test a specific condition. \n",
        "#If the condition is true, a block of code (if-block) will be executed.\n",
        "#Exampl1:\n",
        "num = int(input(\"enter the number?\"))\n",
        "if num%2 == 0:\n",
        "    print(\"Number is even\")\n",
        "\n",
        "#Example2:\n",
        "a = int(input(\"Enter a? \"));\n",
        "b = int(input(\"Enter b? \"));\n",
        "c = int(input(\"Enter c? \"));\n",
        "if a>b and a>c:\n",
        "    print(\"a is largest\");\n",
        "    \n",
        "if b>a and b>c:\n",
        "    print(\"b is largest\");\n",
        "    \n",
        "if c>a and c>b:5\n",
        "    print(\"c is largest\");\n",
        "\n"
      ],
      "execution_count": 6,
      "outputs": [
        {
          "output_type": "stream",
          "text": [
            "enter the number?5\n",
            "Enter a? 5\n",
            "Enter b? 5\n",
            "Enter c? 5\n"
          ],
          "name": "stdout"
        }
      ]
    },
    {
      "cell_type": "code",
      "metadata": {
        "colab": {
          "base_uri": "https://localhost:8080/"
        },
        "id": "3EeSI-YhTB9A",
        "outputId": "0b1e1a17-f5bb-4ffa-a0e6-354899e52c46"
      },
      "source": [
        "#-------Elif Statement------------------\n",
        "#The elif statement enables us to check multiple conditions and execute the specific block of \n",
        "#statements depending upon the true condition among them.It works like if-else-if ladder statement.\n",
        "#Example:\n",
        "number = int(input(\"Enter the number?\"))\n",
        "if number==10:\n",
        "    print(\"number is equals to 10\")\n",
        "elif number==50:\n",
        "    print(\"number is equal to 50\");\n",
        "elif number==100:\n",
        "    print(\"number is equal to 100\");\n",
        "else:\n",
        "    print(\"number is not equal to 10, 50 or 100\");"
      ],
      "execution_count": 7,
      "outputs": [
        {
          "output_type": "stream",
          "text": [
            "Enter the number?4\n",
            "number is not equal to 10, 50 or 100\n"
          ],
          "name": "stdout"
        }
      ]
    },
    {
      "cell_type": "code",
      "metadata": {
        "id": "1cqnts54TJUz"
      },
      "source": [
        ""
      ],
      "execution_count": null,
      "outputs": []
    }
  ]
}